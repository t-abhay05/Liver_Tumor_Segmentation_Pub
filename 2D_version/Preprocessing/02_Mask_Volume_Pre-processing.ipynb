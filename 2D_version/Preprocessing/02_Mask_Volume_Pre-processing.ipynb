{
 "cells": [
  {
   "cell_type": "code",
   "execution_count": 8,
   "metadata": {},
   "outputs": [
    {
     "name": "stdout",
     "output_type": "stream",
     "text": [
      "Collecting opencv-python\n",
      "  Downloading opencv_python-4.9.0.80-cp37-abi3-win_amd64.whl.metadata (20 kB)\n",
      "Requirement already satisfied: numpy>=1.17.0 in c:\\users\\abhay\\.conda\\envs\\tf\\lib\\site-packages (from opencv-python) (1.26.4)\n",
      "Downloading opencv_python-4.9.0.80-cp37-abi3-win_amd64.whl (38.6 MB)\n",
      "   ---------------------------------------- 0.0/38.6 MB ? eta -:--:--\n",
      "   ---------------------------------------- 0.0/38.6 MB ? eta -:--:--\n",
      "   ---------------------------------------- 0.0/38.6 MB ? eta -:--:--\n",
      "   ---------------------------------------- 0.0/38.6 MB ? eta -:--:--\n",
      "   ---------------------------------------- 0.0/38.6 MB ? eta -:--:--\n",
      "   ---------------------------------------- 0.0/38.6 MB ? eta -:--:--\n",
      "   ---------------------------------------- 0.0/38.6 MB 140.3 kB/s eta 0:04:36\n",
      "   ---------------------------------------- 0.0/38.6 MB 140.3 kB/s eta 0:04:36\n",
      "   ---------------------------------------- 0.0/38.6 MB 140.3 kB/s eta 0:04:36\n",
      "   ---------------------------------------- 0.1/38.6 MB 228.2 kB/s eta 0:02:49\n",
      "   ---------------------------------------- 0.2/38.6 MB 461.0 kB/s eta 0:01:24\n",
      "   ---------------------------------------- 0.3/38.6 MB 698.2 kB/s eta 0:00:55\n",
      "    --------------------------------------- 0.5/38.6 MB 994.2 kB/s eta 0:00:39\n",
      "    --------------------------------------- 0.7/38.6 MB 1.2 MB/s eta 0:00:33\n",
      "    --------------------------------------- 0.9/38.6 MB 1.4 MB/s eta 0:00:27\n",
      "    --------------------------------------- 0.9/38.6 MB 1.5 MB/s eta 0:00:26\n",
      "   - -------------------------------------- 1.1/38.6 MB 1.5 MB/s eta 0:00:25\n",
      "   - -------------------------------------- 1.2/38.6 MB 1.6 MB/s eta 0:00:23\n",
      "   - -------------------------------------- 1.4/38.6 MB 1.8 MB/s eta 0:00:21\n",
      "   - -------------------------------------- 1.6/38.6 MB 1.9 MB/s eta 0:00:20\n",
      "   - -------------------------------------- 1.6/38.6 MB 1.9 MB/s eta 0:00:20\n",
      "   - -------------------------------------- 1.8/38.6 MB 1.9 MB/s eta 0:00:20\n",
      "   - -------------------------------------- 1.8/38.6 MB 1.9 MB/s eta 0:00:20\n",
      "   -- ------------------------------------- 2.0/38.6 MB 2.0 MB/s eta 0:00:19\n",
      "   -- ------------------------------------- 2.0/38.6 MB 2.0 MB/s eta 0:00:19\n",
      "   -- ------------------------------------- 2.0/38.6 MB 2.0 MB/s eta 0:00:19\n",
      "   -- ------------------------------------- 2.2/38.6 MB 2.0 MB/s eta 0:00:19\n",
      "   -- ------------------------------------- 2.2/38.6 MB 2.0 MB/s eta 0:00:19\n",
      "   -- ------------------------------------- 2.5/38.6 MB 2.0 MB/s eta 0:00:19\n",
      "   -- ------------------------------------- 2.5/38.6 MB 2.0 MB/s eta 0:00:19\n",
      "   -- ------------------------------------- 2.8/38.6 MB 2.1 MB/s eta 0:00:18\n",
      "   -- ------------------------------------- 2.8/38.6 MB 2.1 MB/s eta 0:00:18\n",
      "   --- ------------------------------------ 3.0/38.6 MB 2.1 MB/s eta 0:00:18\n",
      "   --- ------------------------------------ 3.0/38.6 MB 2.1 MB/s eta 0:00:18\n",
      "   --- ------------------------------------ 3.1/38.6 MB 2.0 MB/s eta 0:00:18\n",
      "   --- ------------------------------------ 3.3/38.6 MB 2.1 MB/s eta 0:00:17\n",
      "   --- ------------------------------------ 3.3/38.6 MB 2.1 MB/s eta 0:00:17\n",
      "   --- ------------------------------------ 3.6/38.6 MB 2.1 MB/s eta 0:00:17\n",
      "   ---- ----------------------------------- 3.9/38.6 MB 2.2 MB/s eta 0:00:16\n",
      "   ---- ----------------------------------- 4.0/38.6 MB 2.3 MB/s eta 0:00:16\n",
      "   ---- ----------------------------------- 4.2/38.6 MB 2.3 MB/s eta 0:00:15\n",
      "   ---- ----------------------------------- 4.4/38.6 MB 2.3 MB/s eta 0:00:15\n",
      "   ---- ----------------------------------- 4.4/38.6 MB 2.3 MB/s eta 0:00:15\n",
      "   ---- ----------------------------------- 4.6/38.6 MB 2.3 MB/s eta 0:00:15\n",
      "   ---- ----------------------------------- 4.7/38.6 MB 2.4 MB/s eta 0:00:15\n",
      "   ---- ----------------------------------- 4.7/38.6 MB 2.4 MB/s eta 0:00:15\n",
      "   ----- ---------------------------------- 5.0/38.6 MB 2.4 MB/s eta 0:00:14\n",
      "   ----- ---------------------------------- 5.0/38.6 MB 2.4 MB/s eta 0:00:14\n",
      "   ----- ---------------------------------- 5.4/38.6 MB 2.4 MB/s eta 0:00:14\n",
      "   ------ --------------------------------- 5.8/38.6 MB 2.6 MB/s eta 0:00:13\n",
      "   ------ --------------------------------- 6.1/38.6 MB 2.7 MB/s eta 0:00:13\n",
      "   ------ --------------------------------- 6.5/38.6 MB 2.8 MB/s eta 0:00:12\n",
      "   ------- -------------------------------- 6.9/38.6 MB 2.9 MB/s eta 0:00:11\n",
      "   ------- -------------------------------- 7.4/38.6 MB 3.0 MB/s eta 0:00:11\n",
      "   -------- ------------------------------- 7.9/38.6 MB 3.2 MB/s eta 0:00:10\n",
      "   -------- ------------------------------- 8.3/38.6 MB 3.3 MB/s eta 0:00:10\n",
      "   --------- ------------------------------ 8.8/38.6 MB 3.4 MB/s eta 0:00:09\n",
      "   --------- ------------------------------ 9.3/38.6 MB 3.5 MB/s eta 0:00:09\n",
      "   ---------- ----------------------------- 9.8/38.6 MB 3.7 MB/s eta 0:00:08\n",
      "   ---------- ----------------------------- 10.3/38.6 MB 4.3 MB/s eta 0:00:07\n",
      "   ----------- ---------------------------- 10.8/38.6 MB 4.6 MB/s eta 0:00:07\n",
      "   ----------- ---------------------------- 10.9/38.6 MB 4.6 MB/s eta 0:00:06\n",
      "   ----------- ---------------------------- 11.0/38.6 MB 4.5 MB/s eta 0:00:07\n",
      "   ----------- ---------------------------- 11.4/38.6 MB 4.8 MB/s eta 0:00:06\n",
      "   ------------ --------------------------- 11.9/38.6 MB 5.1 MB/s eta 0:00:06\n",
      "   ------------ --------------------------- 12.3/38.6 MB 5.5 MB/s eta 0:00:05\n",
      "   ------------- -------------------------- 12.8/38.6 MB 6.0 MB/s eta 0:00:05\n",
      "   ------------- -------------------------- 13.3/38.6 MB 6.7 MB/s eta 0:00:04\n",
      "   -------------- ------------------------- 13.9/38.6 MB 7.1 MB/s eta 0:00:04\n",
      "   -------------- ------------------------- 14.4/38.6 MB 7.6 MB/s eta 0:00:04\n",
      "   --------------- ------------------------ 14.9/38.6 MB 8.3 MB/s eta 0:00:03\n",
      "   --------------- ------------------------ 15.3/38.6 MB 9.4 MB/s eta 0:00:03\n",
      "   ---------------- ----------------------- 15.7/38.6 MB 9.4 MB/s eta 0:00:03\n",
      "   ---------------- ----------------------- 16.3/38.6 MB 9.6 MB/s eta 0:00:03\n",
      "   ----------------- ---------------------- 16.7/38.6 MB 9.6 MB/s eta 0:00:03\n",
      "   ----------------- ---------------------- 17.2/38.6 MB 9.6 MB/s eta 0:00:03\n",
      "   ------------------ --------------------- 17.8/38.6 MB 9.8 MB/s eta 0:00:03\n",
      "   ------------------ --------------------- 18.3/38.6 MB 9.8 MB/s eta 0:00:03\n",
      "   ------------------- -------------------- 18.8/38.6 MB 9.8 MB/s eta 0:00:03\n",
      "   -------------------- ------------------- 19.3/38.6 MB 9.8 MB/s eta 0:00:02\n",
      "   -------------------- ------------------- 19.8/38.6 MB 9.9 MB/s eta 0:00:02\n",
      "   --------------------- ------------------ 20.3/38.6 MB 9.8 MB/s eta 0:00:02\n",
      "   --------------------- ------------------ 20.9/38.6 MB 9.9 MB/s eta 0:00:02\n",
      "   ---------------------- ----------------- 21.4/38.6 MB 10.4 MB/s eta 0:00:02\n",
      "   ---------------------- ----------------- 22.0/38.6 MB 10.6 MB/s eta 0:00:02\n",
      "   ----------------------- ---------------- 22.5/38.6 MB 10.7 MB/s eta 0:00:02\n",
      "   ----------------------- ---------------- 23.0/38.6 MB 10.7 MB/s eta 0:00:02\n",
      "   ------------------------ --------------- 23.5/38.6 MB 10.6 MB/s eta 0:00:02\n",
      "   ------------------------ --------------- 24.0/38.6 MB 10.7 MB/s eta 0:00:02\n",
      "   ------------------------- -------------- 24.5/38.6 MB 10.6 MB/s eta 0:00:02\n",
      "   ------------------------- -------------- 25.0/38.6 MB 10.7 MB/s eta 0:00:02\n",
      "   -------------------------- ------------- 25.5/38.6 MB 10.7 MB/s eta 0:00:02\n",
      "   -------------------------- ------------- 26.1/38.6 MB 10.9 MB/s eta 0:00:02\n",
      "   --------------------------- ------------ 26.6/38.6 MB 10.9 MB/s eta 0:00:02\n",
      "   ---------------------------- ----------- 27.2/38.6 MB 10.9 MB/s eta 0:00:02\n",
      "   ---------------------------- ----------- 27.7/38.6 MB 11.1 MB/s eta 0:00:01\n",
      "   ----------------------------- ---------- 28.3/38.6 MB 11.1 MB/s eta 0:00:01\n",
      "   ----------------------------- ---------- 28.8/38.6 MB 11.1 MB/s eta 0:00:01\n",
      "   ------------------------------ --------- 29.4/38.6 MB 11.3 MB/s eta 0:00:01\n",
      "   ------------------------------ --------- 29.9/38.6 MB 10.9 MB/s eta 0:00:01\n",
      "   ------------------------------- -------- 30.4/38.6 MB 11.1 MB/s eta 0:00:01\n",
      "   -------------------------------- ------- 31.0/38.6 MB 11.1 MB/s eta 0:00:01\n",
      "   -------------------------------- ------- 31.5/38.6 MB 11.3 MB/s eta 0:00:01\n",
      "   --------------------------------- ------ 32.0/38.6 MB 11.3 MB/s eta 0:00:01\n",
      "   --------------------------------- ------ 32.5/38.6 MB 11.3 MB/s eta 0:00:01\n",
      "   ---------------------------------- ----- 33.1/38.6 MB 11.3 MB/s eta 0:00:01\n",
      "   ---------------------------------- ----- 33.6/38.6 MB 11.3 MB/s eta 0:00:01\n",
      "   ----------------------------------- ---- 34.2/38.6 MB 11.5 MB/s eta 0:00:01\n",
      "   ----------------------------------- ---- 34.6/38.6 MB 11.3 MB/s eta 0:00:01\n",
      "   ------------------------------------ --- 35.1/38.6 MB 11.5 MB/s eta 0:00:01\n",
      "   ------------------------------------ --- 35.7/38.6 MB 11.5 MB/s eta 0:00:01\n",
      "   ------------------------------------- -- 36.2/38.6 MB 11.3 MB/s eta 0:00:01\n",
      "   -------------------------------------- - 36.7/38.6 MB 11.3 MB/s eta 0:00:01\n",
      "   -------------------------------------- - 37.3/38.6 MB 11.5 MB/s eta 0:00:01\n",
      "   ---------------------------------------  37.8/38.6 MB 11.3 MB/s eta 0:00:01\n",
      "   ---------------------------------------  38.3/38.6 MB 11.3 MB/s eta 0:00:01\n",
      "   ---------------------------------------  38.6/38.6 MB 11.3 MB/s eta 0:00:01\n",
      "   ---------------------------------------  38.6/38.6 MB 11.3 MB/s eta 0:00:01\n",
      "   ---------------------------------------  38.6/38.6 MB 10.1 MB/s eta 0:00:01\n",
      "   ---------------------------------------  38.6/38.6 MB 10.1 MB/s eta 0:00:01\n",
      "   ---------------------------------------  38.6/38.6 MB 10.1 MB/s eta 0:00:01\n",
      "   ---------------------------------------- 38.6/38.6 MB 9.0 MB/s eta 0:00:00\n",
      "Installing collected packages: opencv-python\n",
      "Successfully installed opencv-python-4.9.0.80\n"
     ]
    }
   ],
   "source": [
    "! pip install opencv-python"
   ]
  },
  {
   "cell_type": "code",
   "execution_count": 9,
   "metadata": {},
   "outputs": [],
   "source": [
    "import os, glob\n",
    "import nibabel as nib\n",
    "import numpy as np\n",
    "import matplotlib.pyplot as plt\n",
    "import cv2"
   ]
  },
  {
   "cell_type": "code",
   "execution_count": 10,
   "metadata": {},
   "outputs": [],
   "source": [
    "dataInputPath = r'D:\\data\\Train Segmentation'\n",
    "\n",
    "\n",
    "maskPathInput = os.path.join(dataInputPath, 'mask/')\n",
    "\n",
    "dataOutputPath = r'D:\\data\\slice'\n",
    "maskSliceOutput = os.path.join(dataOutputPath, 'masknn/')\n",
    "\n",
    "# STEP 2 - Image normalization\n",
    "HOUNSFIELD_MIN = -50\n",
    "HOUNSFIELD_MAX = 450\n",
    "HOUNSFIELD_RANGE = HOUNSFIELD_MAX-HOUNSFIELD_MIN\n",
    "\n",
    "# STEP 3 - Slicing and saving\n",
    "SLICE_X = False\n",
    "SLICE_Y = False\n",
    "SLICE_Z = True\n",
    "\n",
    "SLICE_DECIMATE_IDENTIFIER = 3"
   ]
  },
  {
   "cell_type": "code",
   "execution_count": 11,
   "metadata": {},
   "outputs": [
    {
     "data": {
      "text/plain": [
       "(0.0, 2.0, (512, 512, 123), numpy.memmap)"
      ]
     },
     "execution_count": 11,
     "metadata": {},
     "output_type": "execute_result"
    }
   ],
   "source": [
    "# Load image mask and see max min Hounsfield units\n",
    "maskPath = os.path.join(maskPathInput, 'volume-1.nii')\n",
    "mask = nib.load(maskPath).get_fdata()\n",
    "np.min(mask), np.max(mask), mask.shape, type(mask)"
   ]
  },
  {
   "cell_type": "code",
   "execution_count": 4,
   "metadata": {},
   "outputs": [
    {
     "data": {
      "image/png": "[encoded data removed]",
      "text/plain": [
       "<Figure size 640x480 with 1 Axes>"
      ]
     },
     "metadata": {},
     "output_type": "display_data"
    }
   ],
   "source": [
    "# # Show mask slice\n",
    "imgSlice = mask[:,:,60]\n",
    "plt.imshow(imgSlice, cmap='gray')\n",
    "plt.show()"
   ]
  },
  {
   "cell_type": "code",
   "execution_count": 14,
   "metadata": {},
   "outputs": [],
   "source": [
    "def normalizeMaskIntensityRange(mask):\n",
    "    MIN_MASK_VALUE = 0\n",
    "    MAX_MASK_VALUE = 2\n",
    "    \n",
    "    mask[mask < MIN_MASK_VALUE] = MIN_MASK_VALUE\n",
    "    mask[mask > MAX_MASK_VALUE] = MAX_MASK_VALUE\n",
    "    return (mask - MIN_MASK_VALUE) / (MAX_MASK_VALUE - MIN_MASK_VALUE)\n",
    "\n",
    "normalized_mask = normalizeMaskIntensityRange(mask)\n",
    "binary_mask = (normalized_mask > 0.5).astype(np.uint8)"
   ]
  },
  {
   "cell_type": "code",
   "execution_count": 15,
   "metadata": {},
   "outputs": [
    {
     "data": {
      "text/plain": [
       "memmap([[[0., 0., 0., ..., 0., 0., 0.],\n",
       "         [0., 0., 0., ..., 0., 0., 0.],\n",
       "         [0., 0., 0., ..., 0., 0., 0.],\n",
       "         ...,\n",
       "         [0., 0., 0., ..., 0., 0., 0.],\n",
       "         [0., 0., 0., ..., 0., 0., 0.],\n",
       "         [0., 0., 0., ..., 0., 0., 0.]],\n",
       "\n",
       "        [[0., 0., 0., ..., 0., 0., 0.],\n",
       "         [0., 0., 0., ..., 0., 0., 0.],\n",
       "         [0., 0., 0., ..., 0., 0., 0.],\n",
       "         ...,\n",
       "         [0., 0., 0., ..., 0., 0., 0.],\n",
       "         [0., 0., 0., ..., 0., 0., 0.],\n",
       "         [0., 0., 0., ..., 0., 0., 0.]],\n",
       "\n",
       "        [[0., 0., 0., ..., 0., 0., 0.],\n",
       "         [0., 0., 0., ..., 0., 0., 0.],\n",
       "         [0., 0., 0., ..., 0., 0., 0.],\n",
       "         ...,\n",
       "         [0., 0., 0., ..., 0., 0., 0.],\n",
       "         [0., 0., 0., ..., 0., 0., 0.],\n",
       "         [0., 0., 0., ..., 0., 0., 0.]],\n",
       "\n",
       "        ...,\n",
       "\n",
       "        [[0., 0., 0., ..., 0., 0., 0.],\n",
       "         [0., 0., 0., ..., 0., 0., 0.],\n",
       "         [0., 0., 0., ..., 0., 0., 0.],\n",
       "         ...,\n",
       "         [0., 0., 0., ..., 0., 0., 0.],\n",
       "         [0., 0., 0., ..., 0., 0., 0.],\n",
       "         [0., 0., 0., ..., 0., 0., 0.]],\n",
       "\n",
       "        [[0., 0., 0., ..., 0., 0., 0.],\n",
       "         [0., 0., 0., ..., 0., 0., 0.],\n",
       "         [0., 0., 0., ..., 0., 0., 0.],\n",
       "         ...,\n",
       "         [0., 0., 0., ..., 0., 0., 0.],\n",
       "         [0., 0., 0., ..., 0., 0., 0.],\n",
       "         [0., 0., 0., ..., 0., 0., 0.]],\n",
       "\n",
       "        [[0., 0., 0., ..., 0., 0., 0.],\n",
       "         [0., 0., 0., ..., 0., 0., 0.],\n",
       "         [0., 0., 0., ..., 0., 0., 0.],\n",
       "         ...,\n",
       "         [0., 0., 0., ..., 0., 0., 0.],\n",
       "         [0., 0., 0., ..., 0., 0., 0.],\n",
       "         [0., 0., 0., ..., 0., 0., 0.]]])"
      ]
     },
     "execution_count": 15,
     "metadata": {},
     "output_type": "execute_result"
    }
   ],
   "source": [
    "def readMaskVolume(maskPath, normalize=False):\n",
    "    mask = nib.load(maskPath).get_fdata()\n",
    "    if normalize:\n",
    "        return normalizeMaskIntensityRange(mask)\n",
    "    else:\n",
    "        return mask\n",
    "    \n",
    "readMaskVolume(maskPath, normalize=False)"
   ]
  },
  {
   "cell_type": "code",
   "execution_count": 12,
   "metadata": {},
   "outputs": [],
   "source": [
    "def saveSlice(img, fname, slice_number, path):\n",
    "    img = np.uint8(img * 255)\n",
    "    fout = os.path.join(path, f'{fname}_slice{str(slice_number).zfill(SLICE_DECIMATE_IDENTIFIER)}.png')\n",
    "    cv2.imwrite(fout, img)\n",
    "    print(f'[+] Slice saved: {fout}', end='\\r')"
   ]
  },
  {
   "cell_type": "code",
   "execution_count": 8,
   "metadata": {},
   "outputs": [
    {
     "name": "stdout",
     "output_type": "stream",
     "text": [
      "Mask Min-Max Before Normalization: 0.0, 2.0\n",
      "Mask Min-Max After Normalization: 0.0, 1.0\n"
     ]
    },
    {
     "data": {
      "image/png": "[encoded data removed]",
      "text/plain": [
       "<Figure size 640x480 with 1 Axes>"
      ]
     },
     "metadata": {},
     "output_type": "display_data"
    },
    {
     "name": "stdout",
     "output_type": "stream",
     "text": [
      "[+] Slice saved: D:\\data\\slice\\mask/test_mask_slice061.png\r"
     ]
    }
   ],
   "source": [
    "#Debugg\n",
    "print(f\"Mask Min-Max Before Normalization: {np.min(mask)}, {np.max(mask)}\")\n",
    "normalized_mask = normalizeMaskIntensityRange(mask)\n",
    "\n",
    "print(f\"Mask Min-Max After Normalization: {np.min(normalized_mask)}, {np.max(normalized_mask)}\")\n",
    "plt.imshow(normalized_mask[:,:,60], cmap='gray')\n",
    "plt.show()\n",
    "\n",
    "# Save\n",
    "saveSlice(normalized_mask[:,:,61], 'test_mask', 61, maskSliceOutput)"
   ]
  },
  {
   "cell_type": "code",
   "execution_count": 9,
   "metadata": {},
   "outputs": [],
   "source": [
    "# Slice and save mask volume\n",
    "def sliceAndSaveVolumeImage(vol, fname, path):\n",
    "    (dimx, dimy, dimz) = vol.shape\n",
    "    print(dimx, dimy, dimz)\n",
    "    cnt = 0\n",
    "    \n",
    "    if SLICE_Z:\n",
    "        cnt += dimz\n",
    "        print('Slicing Z: ')\n",
    "        for i in range(dimz):\n",
    "            saveSlice(vol[:,:,i], fname, i, path)\n",
    "    return cnt"
   ]
  },
  {
   "cell_type": "code",
   "execution_count": 10,
   "metadata": {},
   "outputs": [
    {
     "name": "stdout",
     "output_type": "stream",
     "text": [
      "D:\\data\\Train Segmentation\\mask\\volume-0.nii (512, 512, 75) 1099 0.0 1.0\n",
      "512 512 75\n",
      "Slicing Z: \n",
      "[+] Slice saved: D:\\data\\slice\\mask/volume-0\\volume-0_slice074.png\n",
      "D:\\data\\Train Segmentation\\mask\\volume-0.nii, 75 slices created in D:\\data\\slice\\mask/volume-0\n",
      "\n",
      "D:\\data\\Train Segmentation\\mask\\volume-1.nii (512, 512, 123) 1147 0.0 1.0\n",
      "512 512 123\n",
      "Slicing Z: \n",
      "[+] Slice saved: D:\\data\\slice\\mask/volume-1\\volume-1_slice122.png\n",
      "D:\\data\\Train Segmentation\\mask\\volume-1.nii, 123 slices created in D:\\data\\slice\\mask/volume-1\n",
      "\n",
      "D:\\data\\Train Segmentation\\mask\\volume-2.nii (512, 512, 517) 1541 0.0 1.0\n",
      "512 512 517\n",
      "Slicing Z: \n",
      "[+] Slice saved: D:\\data\\slice\\mask/volume-2\\volume-2_slice516.png\n",
      "D:\\data\\Train Segmentation\\mask\\volume-2.nii, 517 slices created in D:\\data\\slice\\mask/volume-2\n",
      "\n",
      "D:\\data\\Train Segmentation\\mask\\volume-3.nii (512, 512, 534) 1558 0.0 1.0\n",
      "512 512 534\n",
      "Slicing Z: \n",
      "[+] Slice saved: D:\\data\\slice\\mask/volume-3\\volume-3_slice533.png\n",
      "D:\\data\\Train Segmentation\\mask\\volume-3.nii, 534 slices created in D:\\data\\slice\\mask/volume-3\n",
      "\n",
      "D:\\data\\Train Segmentation\\mask\\volume-4.nii (512, 512, 841) 1865 0.0 1.0\n",
      "512 512 841\n",
      "Slicing Z: \n",
      "[+] Slice saved: D:\\data\\slice\\mask/volume-4\\volume-4_slice840.png\n",
      "D:\\data\\Train Segmentation\\mask\\volume-4.nii, 841 slices created in D:\\data\\slice\\mask/volume-4\n",
      "\n",
      "[[[0. 0. 0. ... 0. 0. 0.]\n",
      "  [0. 0. 0. ... 0. 0. 0.]\n",
      "  [0. 0. 0. ... 0. 0. 0.]\n",
      "  ...\n",
      "  [0. 0. 0. ... 0. 0. 0.]\n",
      "  [0. 0. 0. ... 0. 0. 0.]\n",
      "  [0. 0. 0. ... 0. 0. 0.]]\n",
      "\n",
      " [[0. 0. 0. ... 0. 0. 0.]\n",
      "  [0. 0. 0. ... 0. 0. 0.]\n",
      "  [0. 0. 0. ... 0. 0. 0.]\n",
      "  ...\n",
      "  [0. 0. 0. ... 0. 0. 0.]\n",
      "  [0. 0. 0. ... 0. 0. 0.]\n",
      "  [0. 0. 0. ... 0. 0. 0.]]\n",
      "\n",
      " [[0. 0. 0. ... 0. 0. 0.]\n",
      "  [0. 0. 0. ... 0. 0. 0.]\n",
      "  [0. 0. 0. ... 0. 0. 0.]\n",
      "  ...\n",
      "  [0. 0. 0. ... 0. 0. 0.]\n",
      "  [0. 0. 0. ... 0. 0. 0.]\n",
      "  [0. 0. 0. ... 0. 0. 0.]]\n",
      "\n",
      " ...\n",
      "\n",
      " [[0. 0. 0. ... 0. 0. 0.]\n",
      "  [0. 0. 0. ... 0. 0. 0.]\n",
      "  [0. 0. 0. ... 0. 0. 0.]\n",
      "  ...\n",
      "  [0. 0. 0. ... 0. 0. 0.]\n",
      "  [0. 0. 0. ... 0. 0. 0.]\n",
      "  [0. 0. 0. ... 0. 0. 0.]]\n",
      "\n",
      " [[0. 0. 0. ... 0. 0. 0.]\n",
      "  [0. 0. 0. ... 0. 0. 0.]\n",
      "  [0. 0. 0. ... 0. 0. 0.]\n",
      "  ...\n",
      "  [0. 0. 0. ... 0. 0. 0.]\n",
      "  [0. 0. 0. ... 0. 0. 0.]\n",
      "  [0. 0. 0. ... 0. 0. 0.]]\n",
      "\n",
      " [[0. 0. 0. ... 0. 0. 0.]\n",
      "  [0. 0. 0. ... 0. 0. 0.]\n",
      "  [0. 0. 0. ... 0. 0. 0.]\n",
      "  ...\n",
      "  [0. 0. 0. ... 0. 0. 0.]\n",
      "  [0. 0. 0. ... 0. 0. 0.]\n",
      "  [0. 0. 0. ... 0. 0. 0.]]]\n"
     ]
    }
   ],
   "source": [
    "# Read and process mask volumes\n",
    "for filename in sorted(glob.iglob(os.path.join(maskPathInput, '*.nii'))):\n",
    "    img = readMaskVolume(filename, True)\n",
    "    print(filename, img.shape, np.sum(img.shape), np.min(img), np.max(img))\n",
    "    \n",
    "    # Get the base filename without the extension\n",
    "    base_filename = os.path.splitext(os.path.basename(filename))[0]\n",
    "    \n",
    "    # Create a folder with the same name as the file\n",
    "    output_folder = os.path.join(maskSliceOutput, base_filename)\n",
    "    os.makedirs(output_folder, exist_ok=True)\n",
    "    \n",
    "    numOfSlices = sliceAndSaveVolumeImage(img, base_filename, output_folder)\n",
    "    \n",
    "    print(f'\\n{filename}, {numOfSlices} slices created in {output_folder}\\n')\n"
   ]
  },
  {
   "cell_type": "code",
   "execution_count": null,
   "metadata": {},
   "outputs": [],
   "source": []
  }
 ],
 "metadata": {
  "kernelspec": {
   "display_name": "base",
   "language": "python",
   "name": "python3"
  },
  "language_info": {
   "codemirror_mode": {
    "name": "ipython",
    "version": 3
   },
   "file_extension": ".py",
   "mimetype": "text/x-python",
   "name": "python",
   "nbconvert_exporter": "python",
   "pygments_lexer": "ipython3",
   "version": "3.9.18"
  }
 },
 "nbformat": 4,
 "nbformat_minor": 2
}
