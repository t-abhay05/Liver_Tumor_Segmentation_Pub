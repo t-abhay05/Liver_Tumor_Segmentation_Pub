{
 "cells": [
  {
   "cell_type": "code",
   "execution_count": 6,
   "id": "4ec2ef98",
   "metadata": {},
   "outputs": [],
   "source": [
    "#Creating groups of 65 slices"
   ]
  },
  {
   "cell_type": "code",
   "execution_count": 49,
   "id": "ac548e0f",
   "metadata": {},
   "outputs": [],
   "source": [
    "in_path = 'C:/Users/Abhay Tiwari/DATASET/DICOM File/labels'\n",
    "out_path = 'C:/Users/Abhay Tiwari/DATASET/DICOM Groups/labels'\n",
    "#in_path = 'C:/Users/Abhay Tiwari/DATASET/DICOM File/images'\n",
    "#out_path = 'C:/Users/Abhay Tiwari/DATASET/DICOM Groups/images'\n"
   ]
  },
  {
   "cell_type": "code",
   "execution_count": 50,
   "id": "a4829f9f",
   "metadata": {},
   "outputs": [],
   "source": [
    "from glob import glob\n",
    "import shutil\n",
    "import os\n",
    "import dicom2nifti \n",
    "import nibabel as nib\n",
    "import numpy as np"
   ]
  },
  {
   "cell_type": "code",
   "execution_count": 52,
   "id": "21493cc9",
   "metadata": {},
   "outputs": [],
   "source": [
    "for patient in glob(in_path + '/*'):\n",
    "    patient_name = os.path.basename(os.path.normpath(patient))\n",
    "    number_folders = int(len(glob(patient + '/*')) / 64)\n",
    "\n",
    "    for folder_index in range(number_folders):\n",
    "        output_path_name = os.path.join(out_path, patient_name + '_' + str(folder_index))\n",
    "        print( output_path_name)\n",
    "        os.mkdir(output_path_name)\n",
    "\n",
    "        for file_index, file in enumerate(glob(patient + '/*')):\n",
    "            if file_index == 64 + 1:\n",
    "                break\n",
    "            shutil.move(file, output_path_name)"
   ]
  },
  {
   "cell_type": "code",
   "execution_count": 53,
   "id": "1745a0f6",
   "metadata": {},
   "outputs": [],
   "source": [
    "#Dicom to nifti "
   ]
  },
  {
   "cell_type": "code",
   "execution_count": 54,
   "id": "19dbf3b4",
   "metadata": {},
   "outputs": [],
   "source": [
    "in_path_images = 'C:/Users/Abhay Tiwari/DATASET/DICOM Groups/images/*'\n",
    "in_path_labels = 'C:/Users/Abhay Tiwari/DATASET/DICOM Groups/labels/*'\n",
    "out_path_images = 'C:/Users/Abhay Tiwari/DATASET/nifti_files/images'\n",
    "out_path_labels = 'C:/Users/Abhay Tiwari/DATASET/nifti_files/labels'\n",
    "\n",
    "\n",
    "list_images = glob(in_path_images)\n",
    "list_labels = glob(in_path_labels)"
   ]
  },
  {
   "cell_type": "code",
   "execution_count": 55,
   "id": "aad68351",
   "metadata": {},
   "outputs": [],
   "source": [
    "for patient in list_labels:\n",
    "    patient_name = os.path.basename(os.path.normpath(patient))\n",
    "    dicom2nifti.dicom_series_to_nifti(patient, os.path.join(out_path_labels , patient_name + '.nii.gz'))"
   ]
  },
  {
   "cell_type": "code",
   "execution_count": 56,
   "id": "9e4ba48a",
   "metadata": {},
   "outputs": [],
   "source": [
    "#nifti file images\n",
    "for patient in list_images:\n",
    "    patient_name = os.path.basename(os.path.normpath(patient))\n",
    "    dicom2nifti.dicom_series_to_nifti(patient, os.path.join(out_path_images , patient_name + '.nii.gz'))"
   ]
  },
  {
   "cell_type": "code",
   "execution_count": 57,
   "id": "5c482097",
   "metadata": {},
   "outputs": [],
   "source": [
    "#empty image \n",
    "input_nifti_file_path = 'C:/Users/Abhay Tiwari/DATASET/nifti_files/images/*'\n",
    "list_labels = glob(input_nifti_file_path)\n",
    "\n",
    "for patient in list_labels:\n",
    "    nifti_file = nib.load(patient)\n",
    "    fdata = nifti_file.get_fdata()\n",
    "    np_unique = np.unique(fdata)\n",
    "    if len(np_unique) == 1:\n",
    "        print(patient)\n",
    "    "
   ]
  },
  {
   "cell_type": "code",
   "execution_count": 58,
   "id": "d8b7538d",
   "metadata": {},
   "outputs": [
    {
     "name": "stdout",
     "output_type": "stream",
     "text": [
      "C:/Users/Abhay Tiwari/DATASET/nifti_files/labels\\liver_130_0.nii.gz\n",
      "C:/Users/Abhay Tiwari/DATASET/nifti_files/labels\\liver_130_1.nii.gz\n",
      "C:/Users/Abhay Tiwari/DATASET/nifti_files/labels\\liver_130_2.nii.gz\n",
      "C:/Users/Abhay Tiwari/DATASET/nifti_files/labels\\liver_130_3.nii.gz\n",
      "C:/Users/Abhay Tiwari/DATASET/nifti_files/labels\\liver_130_4.nii.gz\n"
     ]
    }
   ],
   "source": [
    "#empty labels\n",
    "input_nifti_file_path = 'C:/Users/Abhay Tiwari/DATASET/nifti_files/labels/*'\n",
    "list_labels = glob(input_nifti_file_path)\n",
    "\n",
    "for patient in list_labels:\n",
    "    nifti_file = nib.load(patient)\n",
    "    fdata = nifti_file.get_fdata()\n",
    "    np_unique = np.unique(fdata)\n",
    "    if len(np_unique) == 1:\n",
    "        print(patient)"
   ]
  },
  {
   "cell_type": "code",
   "execution_count": null,
   "id": "387c5a40",
   "metadata": {},
   "outputs": [],
   "source": []
  }
 ],
 "metadata": {
  "kernelspec": {
   "display_name": "Python 3 (ipykernel)",
   "language": "python",
   "name": "python3"
  },
  "language_info": {
   "codemirror_mode": {
    "name": "ipython",
    "version": 3
   },
   "file_extension": ".py",
   "mimetype": "text/x-python",
   "name": "python",
   "nbconvert_exporter": "python",
   "pygments_lexer": "ipython3",
   "version": "3.9.13"
  }
 },
 "nbformat": 4,
 "nbformat_minor": 5
}
