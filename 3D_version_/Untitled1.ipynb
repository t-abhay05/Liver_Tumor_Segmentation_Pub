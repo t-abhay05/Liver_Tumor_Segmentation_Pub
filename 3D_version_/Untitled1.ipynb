{
 "cells": [
  {
   "cell_type": "code",
   "execution_count": 1,
   "id": "a69d1ed8",
   "metadata": {},
   "outputs": [],
   "source": [
    "import monai\n",
    "import os\n",
    "from glob import glob\n",
    "import torch \n",
    "from monai.transforms import(\n",
    "    Compose,\n",
    "    AddChanneld,\n",
    "    LoadImaged,\n",
    "    ToTensord,\n",
    "    Spacingd,\n",
    "    RandAffined,\n",
    "    RandRotated,\n",
    "    Orientationd,\n",
    "    RandGaussianNoised,\n",
    "    ScaleIntensityRanged,\n",
    "    EnsureChannelFirst,\n",
    "    MapTransform,\n",
    "   )\n",
    "from monai.data import DataLoader, Dataset\n",
    "from monai.utils import first\n",
    "import matplotlib.pyplot as plt"
   ]
  },
  {
   "cell_type": "code",
   "execution_count": 2,
   "id": "00e1a227",
   "metadata": {},
   "outputs": [],
   "source": [
    "data_dir=r'C:\\Users\\Abhay Tiwari\\DATASET\\Data_Train_Test'"
   ]
  },
  {
   "cell_type": "code",
   "execution_count": 3,
   "id": "b365476f",
   "metadata": {},
   "outputs": [],
   "source": [
    "train_images = sorted(glob(os.path.join(data_dir, 'TrainVolumes', '*.nii.gz'))) \n",
    "train_labels = sorted(glob(os.path.join(data_dir, 'TrainSegmentation', '*.nii.gz'))) \n",
    "\n",
    "val_images = sorted(glob(os.path.join(data_dir, 'TestVolumes', '*.nii.gz'))) \n",
    "val_labels = sorted(glob(os.path.join(data_dir, 'TestSegmentation', '*.nii.gz'))) \n",
    "#print(val_labels)\n",
    "\n",
    "train_files = [{\"image\":image_name, 'label':label_name} for image_name, label_name in zip(train_images, train_labels)] \n",
    "val_files = [{\"image\":image_name, 'label':label_name} for image_name, label_name in zip(train_images, train_labels)] \n"
   ]
  },
  {
   "cell_type": "code",
   "execution_count": 4,
   "id": "78bb450f",
   "metadata": {},
   "outputs": [
    {
     "name": "stderr",
     "output_type": "stream",
     "text": [
      "C:\\Users\\Abhay Tiwari\\AppData\\Roaming\\Python\\Python39\\site-packages\\monai\\utils\\deprecate_utils.py:321: FutureWarning: monai.transforms.io.dictionary LoadImaged.__init__:image_only: Current default value of argument `image_only=False` has been deprecated since version 1.1. It will be changed to `image_only=True` in version 1.3.\n",
      "  warn_deprecated(argname, msg, warning_category)\n",
      "C:\\Users\\Abhay Tiwari\\AppData\\Roaming\\Python\\Python39\\site-packages\\monai\\utils\\deprecate_utils.py:111: FutureWarning: <class 'monai.transforms.utility.dictionary.AddChanneld'>: Class `AddChanneld` has been deprecated since version 0.8. It will be removed in version 1.3. please use MetaTensor data type and monai.transforms.EnsureChannelFirstd instead with `channel_dim='no_channel'`.\n",
      "  warn_deprecated(obj, msg, warning_category)\n",
      "C:\\Users\\Abhay Tiwari\\AppData\\Roaming\\Python\\Python39\\site-packages\\monai\\utils\\deprecate_utils.py:221: FutureWarning: monai.transforms.utility.dictionary EnsureChannelFirstd.__init__:meta_keys: Argument `meta_keys` has been deprecated since version 0.9. not needed if image is type `MetaTensor`.\n",
      "  warn_deprecated(argname, msg, warning_category)\n"
     ]
    }
   ],
   "source": [
    "train_transforms = Compose(\n",
    "\n",
    "  [\n",
    "        LoadImaged(keys=[\"image\", \"label\"]),\n",
    "        AddChanneld(keys=[\"image\", \"label\"]),\n",
    "        Spacingd(keys=[\"image\", \"label\"], pixdim=(1.5, 1.5, 2.0), mode=(\"bilinear\", \"nearest\")),\n",
    "        Orientationd(keys=[\"image\", \"label\"], axcodes=\"RAS\"),\n",
    "        ScaleIntensityRanged(keys=[\"image\"], a_min=-200, a_max=200,b_min=0.0, b_max=1.0, clip=True,), \n",
    "        RandAffined(keys=['image', 'label'], prob=0.5, translate_range=10), \n",
    "        RandRotated(keys=['image', 'label'], prob=0.5, range_x=10.0),\n",
    "        RandGaussianNoised(keys='image', prob=0.5),\n",
    "        ToTensord(keys=[\"image\", \"label\"]),\n",
    "  ]\n",
    ")\n",
    "\n",
    "val_transforms = Compose(\n",
    "\n",
    " [\n",
    "        LoadImaged(keys=[\"image\", \"label\"]),\n",
    "        AddChanneld(keys=[\"image\", \"label\"]),\n",
    "        Spacingd(keys=[\"image\", \"label\"], pixdim=(1.5, 1.5, 2.0), mode=(\"bilinear\", \"nearest\")),\n",
    "        Orientationd(keys=[\"image\", \"label\"], axcodes=\"RAS\"),\n",
    "        ScaleIntensityRanged(keys=[\"image\"], a_min=-200, a_max=200,b_min=0.0, b_max=1.0, clip=True,), \n",
    "        RandAffined(keys=['image', 'label'], prob=0.5, translate_range=10), \n",
    "        RandRotated(keys=['image', 'label'], prob=0.5, range_x=10.0),\n",
    "        RandGaussianNoised(keys='image', prob=0.5),\n",
    "        ToTensord(keys=[\"image\", \"label\"]),\n",
    "  ]\n",
    ")"
   ]
  },
  {
   "cell_type": "code",
   "execution_count": 5,
   "id": "c1176b71",
   "metadata": {},
   "outputs": [],
   "source": [
    "train_ds = Dataset(data=train_files, transform=train_transforms)\n",
    "train_loader = DataLoader(train_ds, batch_size=1)\n",
    "\n",
    "val_ds = Dataset(data=val_files, transform=val_transforms)\n",
    "val_loader = DataLoader(val_ds, batch_size=1)  "
   ]
  },
  {
   "cell_type": "code",
   "execution_count": null,
   "id": "b82ad229",
   "metadata": {},
   "outputs": [],
   "source": [
    "test_patient=first(train_loader)\n",
    "#print(test_patient)"
   ]
  },
  {
   "cell_type": "code",
   "execution_count": 2,
   "id": "7309cc5f",
   "metadata": {},
   "outputs": [
    {
     "ename": "NameError",
     "evalue": "name 'plt' is not defined",
     "output_type": "error",
     "traceback": [
      "\u001b[1;31m---------------------------------------------------------------------------\u001b[0m",
      "\u001b[1;31mNameError\u001b[0m                                 Traceback (most recent call last)",
      "\u001b[1;32m~\\AppData\\Local\\Temp\\ipykernel_19924\\3257540953.py\u001b[0m in \u001b[0;36m<module>\u001b[1;34m\u001b[0m\n\u001b[1;32m----> 1\u001b[1;33m \u001b[0mplt\u001b[0m\u001b[1;33m.\u001b[0m\u001b[0mfigure\u001b[0m\u001b[1;33m(\u001b[0m\u001b[1;34m'test'\u001b[0m\u001b[1;33m,\u001b[0m \u001b[1;33m(\u001b[0m\u001b[1;36m12\u001b[0m\u001b[1;33m,\u001b[0m \u001b[1;36m6\u001b[0m\u001b[1;33m)\u001b[0m\u001b[1;33m)\u001b[0m\u001b[1;33m\u001b[0m\u001b[1;33m\u001b[0m\u001b[0m\n\u001b[0m\u001b[0;32m      2\u001b[0m \u001b[1;33m\u001b[0m\u001b[0m\n\u001b[0;32m      3\u001b[0m \u001b[0mplt\u001b[0m\u001b[1;33m.\u001b[0m\u001b[0msubplot\u001b[0m\u001b[1;33m(\u001b[0m\u001b[1;36m1\u001b[0m\u001b[1;33m,\u001b[0m \u001b[1;36m2\u001b[0m\u001b[1;33m,\u001b[0m \u001b[1;36m1\u001b[0m\u001b[1;33m)\u001b[0m\u001b[1;33m\u001b[0m\u001b[1;33m\u001b[0m\u001b[0m\n\u001b[0;32m      4\u001b[0m \u001b[0mplt\u001b[0m\u001b[1;33m.\u001b[0m\u001b[0mtitle\u001b[0m\u001b[1;33m(\u001b[0m\u001b[1;34m'slice of a patient'\u001b[0m\u001b[1;33m)\u001b[0m\u001b[1;33m\u001b[0m\u001b[1;33m\u001b[0m\u001b[0m\n\u001b[0;32m      5\u001b[0m \u001b[0mplt\u001b[0m\u001b[1;33m.\u001b[0m\u001b[0mimshow\u001b[0m\u001b[1;33m(\u001b[0m\u001b[0mtest_patient\u001b[0m\u001b[1;33m[\u001b[0m\u001b[1;34m'image'\u001b[0m\u001b[1;33m]\u001b[0m\u001b[1;33m[\u001b[0m\u001b[1;36m0\u001b[0m\u001b[1;33m,\u001b[0m\u001b[1;36m0\u001b[0m\u001b[1;33m,\u001b[0m\u001b[1;33m:\u001b[0m\u001b[1;33m,\u001b[0m\u001b[1;33m:\u001b[0m\u001b[1;33m,\u001b[0m\u001b[1;36m59\u001b[0m\u001b[1;33m]\u001b[0m\u001b[1;33m,\u001b[0m \u001b[0mcmap\u001b[0m\u001b[1;33m=\u001b[0m \u001b[1;34m\"gray\"\u001b[0m\u001b[1;33m)\u001b[0m\u001b[1;33m\u001b[0m\u001b[1;33m\u001b[0m\u001b[0m\n",
      "\u001b[1;31mNameError\u001b[0m: name 'plt' is not defined"
     ]
    }
   ],
   "source": [
    "plt.figure('test', (12, 6)) \n",
    "\n",
    "plt.subplot(1, 2, 1) \n",
    "plt.title('slice of a patient') \n",
    "plt.imshow(test_patient['image'][0,0,:,:,59], cmap= \"gray\") \n",
    "\n",
    "plt.subplot(1,2,2) \n",
    "plt.title('label of a patient')\n",
    "plt.imshow(test_patient['label'][0,0,:,:,59])\n",
    "plt.show"
   ]
  },
  {
   "cell_type": "code",
   "execution_count": 3,
   "id": "198b34de",
   "metadata": {},
   "outputs": [],
   "source": [
    "#test the changes of git hub "
   ]
  }
 ],
 "metadata": {
  "kernelspec": {
   "display_name": "Python 3 (ipykernel)",
   "language": "python",
   "name": "python3"
  },
  "language_info": {
   "codemirror_mode": {
    "name": "ipython",
    "version": 3
   },
   "file_extension": ".py",
   "mimetype": "text/x-python",
   "name": "python",
   "nbconvert_exporter": "python",
   "pygments_lexer": "ipython3",
   "version": "3.9.13"
  }
 },
 "nbformat": 4,
 "nbformat_minor": 5
}
