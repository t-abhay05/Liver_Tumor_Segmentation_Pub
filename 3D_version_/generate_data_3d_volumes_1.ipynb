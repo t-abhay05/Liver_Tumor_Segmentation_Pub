{
 "cells": [
  {
   "cell_type": "code",
   "execution_count": 1,
   "id": "24997098",
   "metadata": {},
   "outputs": [],
   "source": [
    "from monai.utils import first\n",
    "from monai.transforms import (\n",
    "    AddChanneld,\n",
    "    Compose,\n",
    "    CropForegroundd,\n",
    "    LoadImaged,\n",
    "    Orientationd,\n",
    "    RandSpatialCropd,\n",
    "    ScaleIntensityRanged,\n",
    "    Spacingd,\n",
    "    Resized,\n",
    "    ToTensord,\n",
    "    ScaleIntensityd,\n",
    "    RandRotated,\n",
    "    RandZoomd,\n",
    "    RandGaussianNoised,\n",
    "    Flipd,\n",
    "    RandAffined,\n",
    ")\n",
    "\n",
    "\n",
    "from monai.data import DataLoader, Dataset\n",
    "import matplotlib.pyplot as plt\n",
    "import os\n",
    "import glob\n",
    "import numpy as np\n",
    "import os\n",
    "import torch\n",
    "import nibabel as nib\n",
    "from tqdm import tqdm"
   ]
  },
  {
   "cell_type": "code",
   "execution_count": 2,
   "id": "57e9a430",
   "metadata": {},
   "outputs": [],
   "source": [
    "def save_nifti(in_image, in_label, out, index = 0):\n",
    "    # Convert the torch tensors into numpy array\n",
    "    volume = np.array(in_image.detach().cpu()[0, :, :, :], dtype=np.float32)\n",
    "    lab = np.array(in_label.detach().cpu()[0, :, :, :], dtype=np.float32)\n",
    "    \n",
    "    # Convert the numpy array into nifti file\n",
    "    volume = nib.Nifti1Image(volume, np.eye(4))\n",
    "    lab = nib.Nifti1Image(lab, np.eye(4))\n",
    "    \n",
    "    # Create the path to save the images and labels\n",
    "    path_out_images = os.path.join(out, 'Images')\n",
    "    path_out_labels = os.path.join(out, 'Labels')\n",
    "    \n",
    "    # Make directory if not existing\n",
    "    if not os.path.exists(path_out_images):\n",
    "        os.mkdir(path_out_images)\n",
    "    if not os.path.exists(path_out_labels):\n",
    "        os.mkdir(path_out_labels)\n",
    "    \n",
    "    path_data = os.path.join(out, 'Images')\n",
    "    path_label = os.path.join(out, 'Labels')\n",
    "    nib.save(volume, os.path.join(path_data, f'patient_generated_{index}.nii.gz'))\n",
    "    nib.save(lab, os.path.join(path_label, f'patient_generated_{index}.nii.gz'))\n",
    "\n",
    "    print(f'patient_generated_{index} is saved', end='\\r')"
   ]
  },
  {
   "cell_type": "code",
   "execution_count": 3,
   "id": "457c91f0",
   "metadata": {},
   "outputs": [],
   "source": [
    "data_dir = r'C:\\Users\\abhay\\DATASET\\Data_Train_Test'\n",
    "train_images = sorted(glob.glob(os.path.join(data_dir, \"TrainVolumes\", \"*.nii.gz\")))\n",
    "train_labels = sorted(glob.glob(os.path.join(data_dir, \"TrainSegmentation\", \"*.nii.gz\")))\n",
    "\n",
    "train_files = [{\"image\": image_name, \"label\": label_name} for image_name, label_name in zip(train_images, train_labels)]"
   ]
  },
  {
   "cell_type": "code",
   "execution_count": 4,
   "id": "f3e9847c",
   "metadata": {},
   "outputs": [
    {
     "name": "stderr",
     "output_type": "stream",
     "text": [
      "C:\\Users\\Abhay Tiwari\\AppData\\Roaming\\Python\\Python39\\site-packages\\monai\\utils\\deprecate_utils.py:321: FutureWarning: monai.transforms.io.dictionary LoadImaged.__init__:image_only: Current default value of argument `image_only=False` has been deprecated since version 1.1. It will be changed to `image_only=True` in version 1.3.\n",
      "  warn_deprecated(argname, msg, warning_category)\n",
      "C:\\Users\\Abhay Tiwari\\AppData\\Roaming\\Python\\Python39\\site-packages\\monai\\utils\\deprecate_utils.py:111: FutureWarning: <class 'monai.transforms.utility.dictionary.AddChanneld'>: Class `AddChanneld` has been deprecated since version 0.8. It will be removed in version 1.3. please use MetaTensor data type and monai.transforms.EnsureChannelFirstd instead with `channel_dim='no_channel'`.\n",
      "  warn_deprecated(obj, msg, warning_category)\n",
      "C:\\Users\\Abhay Tiwari\\AppData\\Roaming\\Python\\Python39\\site-packages\\monai\\utils\\deprecate_utils.py:221: FutureWarning: monai.transforms.utility.dictionary EnsureChannelFirstd.__init__:meta_keys: Argument `meta_keys` has been deprecated since version 0.9. not needed if image is type `MetaTensor`.\n",
      "  warn_deprecated(argname, msg, warning_category)\n"
     ]
    }
   ],
   "source": [
    "original_transforms = Compose(\n",
    "    [\n",
    "        LoadImaged(keys=[\"image\", \"label\"]),\n",
    "        AddChanneld(keys=[\"image\", \"label\"]),\n",
    "        Spacingd(keys=['image'], pixdim=(1.5, 1.5, 2.0), mode=(\"bilinear\")),\n",
    "        Orientationd(keys=[\"image\", \"label\"], axcodes=\"RAS\"),\n",
    "        ScaleIntensityRanged(keys=[\"image\"], a_min=-200, a_max=200,b_min=0.0, b_max=1.0, clip=True,), \n",
    "        ToTensord(keys=[\"image\", \"label\"]),\n",
    "    ]\n",
    ")"
   ]
  },
  {
   "cell_type": "code",
   "execution_count": 5,
   "id": "a9730d17",
   "metadata": {},
   "outputs": [],
   "source": [
    "generat_transforms = Compose(\n",
    "    [\n",
    "        LoadImaged(keys=[\"image\", \"label\"]),\n",
    "        AddChanneld(keys=[\"image\", \"label\"]),\n",
    "        Spacingd(keys=[\"image\", \"label\"], pixdim=(1.5, 1.5, 2.0), mode=(\"bilinear\", \"nearest\")),\n",
    "        Orientationd(keys=[\"image\", \"label\"], axcodes=\"RAS\"),\n",
    "        ScaleIntensityRanged(keys=[\"image\"], a_min=-200, a_max=200,b_min=0.0, b_max=1.0, clip=True,), \n",
    "        RandAffined(keys=['image', 'label'], prob=0.5, translate_range=10), \n",
    "        RandRotated(keys=['image', 'label'], prob=0.5, range_x=10.0),\n",
    "        RandGaussianNoised(keys='image', prob=0.5),\n",
    "        ToTensord(keys=[\"image\", \"label\"]),\n",
    "    ]\n",
    ")                                                                                                                               "
   ]
  },
  {
   "cell_type": "code",
   "execution_count": 6,
   "id": "9d0163a8",
   "metadata": {},
   "outputs": [],
   "source": [
    "original_ds = Dataset(data=train_files, transform=original_transforms)\n",
    "original_loader = DataLoader(original_ds, batch_size=1)\n",
    "original_patient = first(original_loader)\n",
    "\n",
    "generat_ds = Dataset(data=train_files, transform=generat_transforms)\n",
    "generat_loader = DataLoader(generat_ds, batch_size=1)\n",
    "generat_patient = first(generat_loader)"
   ]
  },
  {
   "cell_type": "markdown",
   "id": "08716c76",
   "metadata": {},
   "source": [
    "_______________________________________________________________________________________________________"
   ]
  },
  {
   "cell_type": "markdown",
   "id": "877dd5d3",
   "metadata": {},
   "source": [
    "# Display the original patient and the generated one"
   ]
  },
  {
   "cell_type": "code",
   "execution_count": 7,
   "id": "5dfc7d58",
   "metadata": {
    "scrolled": true
   },
   "outputs": [
    {
     "ename": "TypeError",
     "evalue": "'NoneType' object is not subscriptable",
     "output_type": "error",
     "traceback": [
      "\u001b[1;31m---------------------------------------------------------------------------\u001b[0m",
      "\u001b[1;31mTypeError\u001b[0m                                 Traceback (most recent call last)",
      "\u001b[1;32m~\\AppData\\Local\\Temp\\ipykernel_17144\\3148664663.py\u001b[0m in \u001b[0;36m<module>\u001b[1;34m\u001b[0m\n\u001b[0;32m      4\u001b[0m \u001b[0mplt\u001b[0m\u001b[1;33m.\u001b[0m\u001b[0msubplot\u001b[0m\u001b[1;33m(\u001b[0m\u001b[1;36m1\u001b[0m\u001b[1;33m,\u001b[0m \u001b[1;36m3\u001b[0m\u001b[1;33m,\u001b[0m \u001b[1;36m1\u001b[0m\u001b[1;33m)\u001b[0m\u001b[1;33m\u001b[0m\u001b[1;33m\u001b[0m\u001b[0m\n\u001b[0;32m      5\u001b[0m \u001b[0mplt\u001b[0m\u001b[1;33m.\u001b[0m\u001b[0mtitle\u001b[0m\u001b[1;33m(\u001b[0m\u001b[1;34mf\"Original patient slice {number_slice}\"\u001b[0m\u001b[1;33m)\u001b[0m\u001b[1;33m\u001b[0m\u001b[1;33m\u001b[0m\u001b[0m\n\u001b[1;32m----> 6\u001b[1;33m \u001b[0mplt\u001b[0m\u001b[1;33m.\u001b[0m\u001b[0mimshow\u001b[0m\u001b[1;33m(\u001b[0m\u001b[0moriginal_patient\u001b[0m\u001b[1;33m[\u001b[0m\u001b[1;34m\"image\"\u001b[0m\u001b[1;33m]\u001b[0m\u001b[1;33m[\u001b[0m\u001b[1;36m0\u001b[0m\u001b[1;33m,\u001b[0m \u001b[1;36m0\u001b[0m\u001b[1;33m,\u001b[0m \u001b[1;33m:\u001b[0m\u001b[1;33m,\u001b[0m \u001b[1;33m:\u001b[0m\u001b[1;33m,\u001b[0m \u001b[0mnumber_slice\u001b[0m\u001b[1;33m]\u001b[0m\u001b[1;33m,\u001b[0m \u001b[0mcmap\u001b[0m\u001b[1;33m=\u001b[0m\u001b[1;34m\"gray\"\u001b[0m\u001b[1;33m)\u001b[0m\u001b[1;33m\u001b[0m\u001b[1;33m\u001b[0m\u001b[0m\n\u001b[0m\u001b[0;32m      7\u001b[0m \u001b[1;33m\u001b[0m\u001b[0m\n\u001b[0;32m      8\u001b[0m \u001b[0mplt\u001b[0m\u001b[1;33m.\u001b[0m\u001b[0msubplot\u001b[0m\u001b[1;33m(\u001b[0m\u001b[1;36m1\u001b[0m\u001b[1;33m,\u001b[0m \u001b[1;36m3\u001b[0m\u001b[1;33m,\u001b[0m \u001b[1;36m2\u001b[0m\u001b[1;33m)\u001b[0m\u001b[1;33m\u001b[0m\u001b[1;33m\u001b[0m\u001b[0m\n",
      "\u001b[1;31mTypeError\u001b[0m: 'NoneType' object is not subscriptable"
     ]
    },
    {
     "data": {
      "image/png": "[encoded data removed]",
      "text/plain": [
       "<Figure size 1200x600 with 1 Axes>"
      ]
     },
     "metadata": {},
     "output_type": "display_data"
    }
   ],
   "source": [
    "number_slice = 58\n",
    "plt.figure(\"display\", (12, 6))\n",
    "\n",
    "plt.subplot(1, 3, 1)\n",
    "plt.title(f\"Original patient slice {number_slice}\")\n",
    "plt.imshow(original_patient[\"image\"][0, 0, :, :, number_slice], cmap=\"gray\")\n",
    "\n",
    "plt.subplot(1, 3, 2)\n",
    "plt.title(f\"Generated patient slice {number_slice}\")\n",
    "plt.imshow(generat_patient[\"image\"][0, 0, :, :, number_slice], cmap=\"gray\")\n",
    "\n",
    "plt.subplot(1, 3, 3)\n",
    "plt.title(f\"Generated patient label {number_slice}\")\n",
    "plt.imshow(generat_patient[\"label\"][0, 0, :, :, number_slice])\n",
    "plt.show()"
   ]
  },
  {
   "cell_type": "markdown",
   "id": "bbd36a88",
   "metadata": {},
   "source": [
    "_______________________________________________________________________________________________________"
   ]
  },
  {
   "cell_type": "markdown",
   "id": "65cd4716",
   "metadata": {},
   "source": [
    "# Save the generated patients\n",
    "The variable 'number_runs' will control how many time you will multiply your data."
   ]
  },
  {
   "cell_type": "code",
   "execution_count": 28,
   "id": "3ffe608f",
   "metadata": {},
   "outputs": [
    {
     "name": "stdout",
     "output_type": "stream",
     "text": [
      "step 0 doneerated_1 is saved\n",
      "step 1 doneerated_1 is saved\n",
      "step 2 doneerated_1 is saved\n",
      "step 3 doneerated_1 is saved\n",
      "step 4 doneerated_1 is saved\n",
      "step 5 doneerated_1 is saved\n",
      "step 6 doneerated_1 is saved\n",
      "step 7 doneerated_1 is saved\n",
      "step 8 doneerated_1 is saved\n",
      "step 9 doneerated_1 is saved\n"
     ]
    }
   ],
   "source": [
    "output_path = r'C:\\Users\\abhay\\DATASET\\Data_Train_Test\\generated_data'\n",
    "number_runs = 10\n",
    "for i in range(number_runs):\n",
    "    name_folder = 'generated_data_' + str(i)\n",
    "    os.mkdir(os.path.join(output_path, name_folder))\n",
    "    output = os.path.join(output_path, name_folder)\n",
    "    check_ds = Dataset(data=train_files, transform=generat_transforms)\n",
    "    check_loader = DataLoader(check_ds, batch_size=1)\n",
    "    check_data = first(check_loader)\n",
    "    for index, patient in enumerate(check_loader):\n",
    "        save_nifti(patient['image'], patient['label'], output, index)\n",
    "    print(f'step {i} done')"
   ]
  },
  {
   "cell_type": "code",
   "execution_count": null,
   "id": "5046a07b",
   "metadata": {},
   "outputs": [],
   "source": []
  }
 ],
 "metadata": {
  "kernelspec": {
   "display_name": "Python 3 (ipykernel)",
   "language": "python",
   "name": "python3"
  },
  "language_info": {
   "codemirror_mode": {
    "name": "ipython",
    "version": 3
   },
   "file_extension": ".py",
   "mimetype": "text/x-python",
   "name": "python",
   "nbconvert_exporter": "python",
   "pygments_lexer": "ipython3",
   "version": "3.9.13"
  }
 },
 "nbformat": 4,
 "nbformat_minor": 5
}
